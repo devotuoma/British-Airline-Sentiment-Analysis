{
 "cells": [
  {
   "cell_type": "markdown",
   "id": "c1de24b7",
   "metadata": {},
   "source": [
    "# Data Manipulation and Munging"
   ]
  },
  {
   "cell_type": "markdown",
   "id": "954b7fd6",
   "metadata": {},
   "source": [
    "# INSIGHTS\n",
    "This Jupyter notebook includes some code to generate insights on what we learnt from the data. We will use a package called NLTK to perform sentiment analysis."
   ]
  },
  {
   "cell_type": "markdown",
   "id": "75de11e4",
   "metadata": {},
   "source": [
    "# Graphs and Plots\n",
    "We will use Matplotlib and Seaborn libraries for the visualization"
   ]
  },
  {
   "cell_type": "code",
   "execution_count": 1,
   "id": "77b400d0",
   "metadata": {},
   "outputs": [],
   "source": [
    "# Importing libraries\n",
    "from nltk.sentiment import vader\n",
    "import nltk\n",
    "import matplotlib.pyplot as plt\n",
    "import requests\n",
    "from collections import Counter\n",
    "import seaborn as sns\n",
    "import pandas as pd"
   ]
  },
  {
   "cell_type": "code",
   "execution_count": null,
   "id": "1e3e86eb",
   "metadata": {},
   "outputs": [],
   "source": [
    "# Read in the reviews data from a CSV file\n"
   ]
  }
 ],
 "metadata": {
  "kernelspec": {
   "display_name": "Python 3 (ipykernel)",
   "language": "python",
   "name": "python3"
  },
  "language_info": {
   "codemirror_mode": {
    "name": "ipython",
    "version": 3
   },
   "file_extension": ".py",
   "mimetype": "text/x-python",
   "name": "python",
   "nbconvert_exporter": "python",
   "pygments_lexer": "ipython3",
   "version": "3.10.9"
  }
 },
 "nbformat": 4,
 "nbformat_minor": 5
}
